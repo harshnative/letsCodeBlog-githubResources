{
 "cells": [
  {
   "cell_type": "markdown",
   "metadata": {},
   "source": [
    "# Euclidean distance"
   ]
  },
  {
   "cell_type": "markdown",
   "metadata": {},
   "source": [
    "the Euclidean distance between two points in Euclidean space is the length of a line segment between the two points."
   ]
  },
  {
   "cell_type": "markdown",
   "metadata": {},
   "source": [
    "![euclidean graph](Euclidean_distance.png)"
   ]
  },
  {
   "cell_type": "code",
   "execution_count": 16,
   "metadata": {},
   "outputs": [
    {
     "data": {
      "text/plain": [
       "3.872983346207417"
      ]
     },
     "execution_count": 16,
     "metadata": {},
     "output_type": "execute_result"
    }
   ],
   "source": [
    "import math\n",
    "\n",
    "# higher dimensional formula\n",
    "# d = sqrt( (y1 - x1)^2  + (y2 - x1)^2 + (y3 - x3)^2 +      + (yn - xn)^2 )\n",
    "\n",
    "def euclideanDistance(x , y):\n",
    "    \n",
    "    distance = 0\n",
    "    \n",
    "    for i,j in zip( range(len(x)) , range(len(y)) ):\n",
    "        distance = distance + ((x[i] - y[j]) ** 2)\n",
    "        \n",
    "    distance = math.sqrt(distance)\n",
    "    \n",
    "    return distance\n",
    "\n",
    "\n",
    "euclideanDistance([1,5,3,4,1] , [3,4,2,1,1])\n",
    "    "
   ]
  },
  {
   "cell_type": "markdown",
   "metadata": {},
   "source": [
    "<br>"
   ]
  },
  {
   "cell_type": "markdown",
   "metadata": {},
   "source": [
    "<br>"
   ]
  },
  {
   "cell_type": "markdown",
   "metadata": {},
   "source": [
    "<br>"
   ]
  },
  {
   "cell_type": "markdown",
   "metadata": {},
   "source": [
    "# hamming distance"
   ]
  },
  {
   "cell_type": "markdown",
   "metadata": {},
   "source": [
    "the Hamming distance between two strings of equal length is the number of positions at which the corresponding symbols are different."
   ]
  },
  {
   "cell_type": "code",
   "execution_count": 8,
   "metadata": {},
   "outputs": [
    {
     "data": {
      "text/plain": [
       "3"
      ]
     },
     "execution_count": 8,
     "metadata": {},
     "output_type": "execute_result"
    }
   ],
   "source": [
    "def hammingDistance(x , y):\n",
    "    \n",
    "    distance = 0\n",
    "    \n",
    "    for i,j in zip(x,y):\n",
    "        if(i != j):\n",
    "            distance = distance + 1\n",
    "            \n",
    "    return distance\n",
    "\n",
    "\n",
    "hammingDistance(\"hello world\" , \"helle wordl\")\n",
    "    \n",
    "    "
   ]
  },
  {
   "cell_type": "markdown",
   "metadata": {},
   "source": [
    "<br>"
   ]
  },
  {
   "cell_type": "markdown",
   "metadata": {},
   "source": [
    "<br>"
   ]
  },
  {
   "cell_type": "markdown",
   "metadata": {},
   "source": [
    "<br>"
   ]
  },
  {
   "cell_type": "markdown",
   "metadata": {},
   "source": [
    "<br>"
   ]
  },
  {
   "cell_type": "markdown",
   "metadata": {},
   "source": [
    "<br>"
   ]
  },
  {
   "cell_type": "markdown",
   "metadata": {},
   "source": [
    "# cosine similarity"
   ]
  },
  {
   "cell_type": "markdown",
   "metadata": {},
   "source": [
    "Mathematically, it measures the cosine of the angle between two vectors projected in a multi-dimensional space. In this context, the two vectors I am talking about are arrays containing the word counts of two documents.\n",
    "\n",
    "When plotted on a multi-dimensional space, where each dimension corresponds to a word in the document, the cosine similarity captures the orientation (the angle) of the documents and not the magnitude. If you want the magnitude, compute the Euclidean distance instead.\n",
    "\n",
    "The cosine similarity is advantageous because even if the two similar documents are far apart by the Euclidean distance because of the size (like, the word ‘cricket’ appeared 50 times in one document and 10 times in another) they could still have a smaller angle between them. Smaller the angle, higher the similarity."
   ]
  },
  {
   "cell_type": "markdown",
   "metadata": {},
   "source": [
    "![cosine formula](Cosine-Similarity-Formula.jpg)"
   ]
  },
  {
   "cell_type": "markdown",
   "metadata": {},
   "source": [
    "![cosine angle comparision](cosine2.png)"
   ]
  },
  {
   "cell_type": "markdown",
   "metadata": {},
   "source": [
    "<br>"
   ]
  },
  {
   "cell_type": "markdown",
   "metadata": {},
   "source": [
    "<br>"
   ]
  },
  {
   "cell_type": "markdown",
   "metadata": {},
   "source": [
    "It is widely used in document matching\n",
    "\n",
    "example - \n",
    "\n",
    "Document 1: Deep Learning can be hard\n",
    "\n",
    "Document 2: Deep Learning can be simple"
   ]
  },
  {
   "cell_type": "markdown",
   "metadata": {},
   "source": [
    "![example cosine](vector_cosine.png)"
   ]
  },
  {
   "cell_type": "code",
   "execution_count": 11,
   "metadata": {},
   "outputs": [
    {
     "data": {
      "text/plain": [
       "0.6956655929999346"
      ]
     },
     "execution_count": 11,
     "metadata": {},
     "output_type": "execute_result"
    }
   ],
   "source": [
    "# formula for cosine similarity\n",
    "\n",
    "# a.b / mag(a) * mag(b)\n",
    "\n",
    "def cosine_similarity(x , y):\n",
    "    \n",
    "    aDotb = 0\n",
    "    a = 0\n",
    "    b = 0\n",
    "    \n",
    "    for i in range(len(x)):\n",
    "        aDotb = aDotb + (x[i] * y[i])\n",
    "        a = a + (x[i] * x[i])\n",
    "        b = b + (y[i] * y[i])\n",
    "        \n",
    "    cosTheta = aDotb / (math.sqrt(a) * math.sqrt(b))\n",
    "    \n",
    "    return cosTheta\n",
    "\n",
    "cosine_similarity([1,3,4,1] , [3,2,1,1])"
   ]
  },
  {
   "cell_type": "markdown",
   "metadata": {},
   "source": [
    "<br>"
   ]
  },
  {
   "cell_type": "markdown",
   "metadata": {},
   "source": [
    "<br>"
   ]
  },
  {
   "cell_type": "markdown",
   "metadata": {},
   "source": [
    "<br>"
   ]
  },
  {
   "cell_type": "markdown",
   "metadata": {},
   "source": [
    "<br>"
   ]
  },
  {
   "cell_type": "markdown",
   "metadata": {},
   "source": [
    "# jaccard similarity"
   ]
  },
  {
   "cell_type": "markdown",
   "metadata": {},
   "source": [
    "![jaccards similarity formula](jaccard.png)"
   ]
  },
  {
   "cell_type": "code",
   "execution_count": 23,
   "metadata": {},
   "outputs": [
    {
     "name": "stdout",
     "output_type": "stream",
     "text": [
      "{0, 1, 2, 4, 5}\n",
      "{0, 1, 2, 3, 4, 5, 6, 7, 9}\n"
     ]
    },
    {
     "data": {
      "text/plain": [
       "0.5555555555555556"
      ]
     },
     "execution_count": 23,
     "metadata": {},
     "output_type": "execute_result"
    }
   ],
   "source": [
    "# formula = len(intersection) / len(union)\n",
    "\n",
    "def jacardSimilarity(x , y):\n",
    "    \n",
    "    setX = set(x)\n",
    "    setY = set(y)\n",
    "    \n",
    "    print(setX.intersection(setY))\n",
    "    print(setX.union(setY))\n",
    "    \n",
    "    jaccardSim = len(setX.intersection(setY)) / len(setX.union(setY))\n",
    "    \n",
    "    return jaccardSim\n",
    "    \n",
    "jacardSimilarity([0,1,2,4,5,6],[0,2,3,4,5,1,7,9])"
   ]
  },
  {
   "cell_type": "code",
   "execution_count": 29,
   "metadata": {},
   "outputs": [
    {
     "data": {
      "text/plain": [
       "0.5555555555555556"
      ]
     },
     "execution_count": 29,
     "metadata": {},
     "output_type": "execute_result"
    }
   ],
   "source": [
    "# without using sets\n",
    "\n",
    "# x intersection y\n",
    "def listIntersection(x , y):\n",
    "    \n",
    "    result = []\n",
    "    \n",
    "    for i in x:\n",
    "        if(i in y):\n",
    "            result.append(i)\n",
    "    \n",
    "    return result\n",
    "            \n",
    "\n",
    "def listUnion(x , y):\n",
    "    result = x\n",
    "    \n",
    "    for i in y:\n",
    "        if(i not in result):\n",
    "            result.append(i)\n",
    "            \n",
    "    return result\n",
    "        \n",
    "        \n",
    "\n",
    "def jacardSimilarity(x , y):\n",
    "    \n",
    "    listX = []\n",
    "    listY = []\n",
    "    \n",
    "    for i in x:\n",
    "        if(i not in listX):\n",
    "            listX.append(i)\n",
    "        \n",
    "    for j in y:\n",
    "        if(j not in listY):\n",
    "            listY.append(j)\n",
    "            \n",
    "            \n",
    "    intersection = listIntersection(listX , listY)\n",
    "    union = listUnion(listX , listY)\n",
    "            \n",
    "    jaccardSim = len(intersection) / len(union)\n",
    "    \n",
    "    return jaccardSim\n",
    "            \n",
    "    \n",
    "    \n",
    "jacardSimilarity([0,1,2,4,5,6],[0,2,3,4,5,1,7,9])"
   ]
  },
  {
   "cell_type": "code",
   "execution_count": null,
   "metadata": {},
   "outputs": [],
   "source": []
  }
 ],
 "metadata": {
  "kernelspec": {
   "display_name": "Python 3",
   "language": "python",
   "name": "python3"
  },
  "language_info": {
   "codemirror_mode": {
    "name": "ipython",
    "version": 3
   },
   "file_extension": ".py",
   "mimetype": "text/x-python",
   "name": "python",
   "nbconvert_exporter": "python",
   "pygments_lexer": "ipython3",
   "version": "3.8.5"
  }
 },
 "nbformat": 4,
 "nbformat_minor": 4
}
