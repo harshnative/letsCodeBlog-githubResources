{
 "cells": [
  {
   "cell_type": "code",
   "execution_count": 1,
   "source": [
    "# importing modules\n",
    "import numpy\n",
    "import pandas\n",
    "from IPython.display import display"
   ],
   "outputs": [],
   "metadata": {}
  },
  {
   "cell_type": "code",
   "execution_count": 2,
   "source": [
    "# reading data\n",
    "myData = pandas.read_csv(\"ques1Data.csv\")\n",
    "myData2 = pandas.read_csv(\"ques1Data.csv\")\n",
    "\n",
    "display(myData)"
   ],
   "outputs": [
    {
     "output_type": "display_data",
     "data": {
      "text/html": [
       "<div>\n",
       "<style scoped>\n",
       "    .dataframe tbody tr th:only-of-type {\n",
       "        vertical-align: middle;\n",
       "    }\n",
       "\n",
       "    .dataframe tbody tr th {\n",
       "        vertical-align: top;\n",
       "    }\n",
       "\n",
       "    .dataframe thead th {\n",
       "        text-align: right;\n",
       "    }\n",
       "</style>\n",
       "<table border=\"1\" class=\"dataframe\">\n",
       "  <thead>\n",
       "    <tr style=\"text-align: right;\">\n",
       "      <th></th>\n",
       "      <th>Y</th>\n",
       "      <th>squareFeet</th>\n",
       "    </tr>\n",
       "  </thead>\n",
       "  <tbody>\n",
       "    <tr>\n",
       "      <th>0</th>\n",
       "      <td>245</td>\n",
       "      <td>1400</td>\n",
       "    </tr>\n",
       "    <tr>\n",
       "      <th>1</th>\n",
       "      <td>312</td>\n",
       "      <td>1600</td>\n",
       "    </tr>\n",
       "    <tr>\n",
       "      <th>2</th>\n",
       "      <td>279</td>\n",
       "      <td>1700</td>\n",
       "    </tr>\n",
       "    <tr>\n",
       "      <th>3</th>\n",
       "      <td>308</td>\n",
       "      <td>1875</td>\n",
       "    </tr>\n",
       "    <tr>\n",
       "      <th>4</th>\n",
       "      <td>199</td>\n",
       "      <td>1100</td>\n",
       "    </tr>\n",
       "    <tr>\n",
       "      <th>5</th>\n",
       "      <td>219</td>\n",
       "      <td>1550</td>\n",
       "    </tr>\n",
       "    <tr>\n",
       "      <th>6</th>\n",
       "      <td>405</td>\n",
       "      <td>2350</td>\n",
       "    </tr>\n",
       "    <tr>\n",
       "      <th>7</th>\n",
       "      <td>324</td>\n",
       "      <td>2450</td>\n",
       "    </tr>\n",
       "    <tr>\n",
       "      <th>8</th>\n",
       "      <td>319</td>\n",
       "      <td>1425</td>\n",
       "    </tr>\n",
       "    <tr>\n",
       "      <th>9</th>\n",
       "      <td>255</td>\n",
       "      <td>1700</td>\n",
       "    </tr>\n",
       "  </tbody>\n",
       "</table>\n",
       "</div>"
      ],
      "text/plain": [
       "     Y  squareFeet\n",
       "0  245        1400\n",
       "1  312        1600\n",
       "2  279        1700\n",
       "3  308        1875\n",
       "4  199        1100\n",
       "5  219        1550\n",
       "6  405        2350\n",
       "7  324        2450\n",
       "8  319        1425\n",
       "9  255        1700"
      ]
     },
     "metadata": {}
    }
   ],
   "metadata": {}
  },
  {
   "cell_type": "code",
   "execution_count": 3,
   "source": [
    "# testing .iteritems()\n",
    "for columnName, columnData in myData.iteritems():\n",
    "    print(columnName)\n",
    "    for i in columnData:\n",
    "        print(i)"
   ],
   "outputs": [
    {
     "output_type": "stream",
     "name": "stdout",
     "text": [
      "Y\n",
      "245\n",
      "312\n",
      "279\n",
      "308\n",
      "199\n",
      "219\n",
      "405\n",
      "324\n",
      "319\n",
      "255\n",
      "squareFeet\n",
      "1400\n",
      "1600\n",
      "1700\n",
      "1875\n",
      "1100\n",
      "1550\n",
      "2350\n",
      "2450\n",
      "1425\n",
      "1700\n"
     ]
    }
   ],
   "metadata": {}
  },
  {
   "cell_type": "code",
   "execution_count": 4,
   "source": [
    "# normalize data using min max normalization\n",
    "for columnName, columnData in myData.iteritems():\n",
    "    maxI = max(columnData)\n",
    "    minI = min(columnData)\n",
    "\n",
    "    tempList = []\n",
    "\n",
    "    for j in range(len(columnData)):\n",
    "        xStar = ( ((columnData[j] - minI) / (maxI - minI)) * (1 - 0) ) + 0\n",
    "        tempList.append(xStar)\n",
    "        \n",
    "    myData[columnName] = tempList\n",
    "    \n",
    "display(myData)"
   ],
   "outputs": [
    {
     "output_type": "display_data",
     "data": {
      "text/html": [
       "<div>\n",
       "<style scoped>\n",
       "    .dataframe tbody tr th:only-of-type {\n",
       "        vertical-align: middle;\n",
       "    }\n",
       "\n",
       "    .dataframe tbody tr th {\n",
       "        vertical-align: top;\n",
       "    }\n",
       "\n",
       "    .dataframe thead th {\n",
       "        text-align: right;\n",
       "    }\n",
       "</style>\n",
       "<table border=\"1\" class=\"dataframe\">\n",
       "  <thead>\n",
       "    <tr style=\"text-align: right;\">\n",
       "      <th></th>\n",
       "      <th>Y</th>\n",
       "      <th>squareFeet</th>\n",
       "    </tr>\n",
       "  </thead>\n",
       "  <tbody>\n",
       "    <tr>\n",
       "      <th>0</th>\n",
       "      <td>0.223301</td>\n",
       "      <td>0.222222</td>\n",
       "    </tr>\n",
       "    <tr>\n",
       "      <th>1</th>\n",
       "      <td>0.548544</td>\n",
       "      <td>0.370370</td>\n",
       "    </tr>\n",
       "    <tr>\n",
       "      <th>2</th>\n",
       "      <td>0.388350</td>\n",
       "      <td>0.444444</td>\n",
       "    </tr>\n",
       "    <tr>\n",
       "      <th>3</th>\n",
       "      <td>0.529126</td>\n",
       "      <td>0.574074</td>\n",
       "    </tr>\n",
       "    <tr>\n",
       "      <th>4</th>\n",
       "      <td>0.000000</td>\n",
       "      <td>0.000000</td>\n",
       "    </tr>\n",
       "    <tr>\n",
       "      <th>5</th>\n",
       "      <td>0.097087</td>\n",
       "      <td>0.333333</td>\n",
       "    </tr>\n",
       "    <tr>\n",
       "      <th>6</th>\n",
       "      <td>1.000000</td>\n",
       "      <td>0.925926</td>\n",
       "    </tr>\n",
       "    <tr>\n",
       "      <th>7</th>\n",
       "      <td>0.606796</td>\n",
       "      <td>1.000000</td>\n",
       "    </tr>\n",
       "    <tr>\n",
       "      <th>8</th>\n",
       "      <td>0.582524</td>\n",
       "      <td>0.240741</td>\n",
       "    </tr>\n",
       "    <tr>\n",
       "      <th>9</th>\n",
       "      <td>0.271845</td>\n",
       "      <td>0.444444</td>\n",
       "    </tr>\n",
       "  </tbody>\n",
       "</table>\n",
       "</div>"
      ],
      "text/plain": [
       "          Y  squareFeet\n",
       "0  0.223301    0.222222\n",
       "1  0.548544    0.370370\n",
       "2  0.388350    0.444444\n",
       "3  0.529126    0.574074\n",
       "4  0.000000    0.000000\n",
       "5  0.097087    0.333333\n",
       "6  1.000000    0.925926\n",
       "7  0.606796    1.000000\n",
       "8  0.582524    0.240741\n",
       "9  0.271845    0.444444"
      ]
     },
     "metadata": {}
    }
   ],
   "metadata": {}
  },
  {
   "cell_type": "code",
   "execution_count": 5,
   "source": [
    "# convert the X to matrix\n",
    "# [\n",
    "#     1 X11        X1k\n",
    "#     1 X21        X2k\n",
    "#     1 X22        X3k\n",
    "    \n",
    "    \n",
    "#     1 Xn1        Xnk\n",
    "# ]\n",
    "\n",
    "xMat = []\n",
    "\n",
    "for i in myData.index:\n",
    "    templist = [1]\n",
    "    \n",
    "    for j in myData.iloc[i][1:]:\n",
    "        templist.append(j)\n",
    "        \n",
    "    xMat.append(templist)\n",
    "    \n",
    "    \n",
    "xMat = numpy.array(xMat)\n",
    "\n",
    "display(xMat)"
   ],
   "outputs": [
    {
     "output_type": "display_data",
     "data": {
      "text/plain": [
       "array([[1.        , 0.22222222],\n",
       "       [1.        , 0.37037037],\n",
       "       [1.        , 0.44444444],\n",
       "       [1.        , 0.57407407],\n",
       "       [1.        , 0.        ],\n",
       "       [1.        , 0.33333333],\n",
       "       [1.        , 0.92592593],\n",
       "       [1.        , 1.        ],\n",
       "       [1.        , 0.24074074],\n",
       "       [1.        , 0.44444444]])"
      ]
     },
     "metadata": {}
    }
   ],
   "metadata": {}
  },
  {
   "cell_type": "code",
   "execution_count": 6,
   "source": [
    "# transpose X \n",
    "xMat_transpose = xMat.transpose()\n",
    "\n",
    "display(xMat_transpose)"
   ],
   "outputs": [
    {
     "output_type": "display_data",
     "data": {
      "text/plain": [
       "array([[1.        , 1.        , 1.        , 1.        , 1.        ,\n",
       "        1.        , 1.        , 1.        , 1.        , 1.        ],\n",
       "       [0.22222222, 0.37037037, 0.44444444, 0.57407407, 0.        ,\n",
       "        0.33333333, 0.92592593, 1.        , 0.24074074, 0.44444444]])"
      ]
     },
     "metadata": {}
    }
   ],
   "metadata": {}
  },
  {
   "cell_type": "code",
   "execution_count": 7,
   "source": [
    "# beta = ( (X_transpose*X) ^ -1 ) * X_transpose * y\n",
    "\n",
    "# inverse ( X.T * X )\n",
    "inversed = numpy.linalg.inv(numpy.dot(xMat_transpose,xMat))\n",
    "\n",
    "display(inversed)"
   ],
   "outputs": [
    {
     "output_type": "display_data",
     "data": {
      "text/plain": [
       "array([[ 0.3406777 , -0.52831689],\n",
       "       [-0.52831689,  1.15972001]])"
      ]
     },
     "metadata": {}
    }
   ],
   "metadata": {}
  },
  {
   "cell_type": "code",
   "execution_count": 8,
   "source": [
    "# intermidiate beta\n",
    "tempBeta = numpy.dot(inversed , xMat_transpose)\n",
    "\n",
    "display(tempBeta)"
   ],
   "outputs": [
    {
     "output_type": "display_data",
     "data": {
      "text/plain": [
       "array([[ 0.22327394,  0.14500477,  0.10587019,  0.03738466,  0.3406777 ,\n",
       "         0.16457206, -0.14850461, -0.1876392 ,  0.2134903 ,  0.10587019],\n",
       "       [-0.27060134, -0.09879096, -0.01288578,  0.1374483 , -0.52831689,\n",
       "        -0.14174356,  0.54549793,  0.63140312, -0.24912504, -0.01288578]])"
      ]
     },
     "metadata": {}
    }
   ],
   "metadata": {}
  },
  {
   "cell_type": "code",
   "execution_count": 9,
   "source": [
    "# beta \n",
    "y = numpy.array(myData[\"Y\"])\n",
    "\n",
    "beta = numpy.dot(tempBeta , y)\n",
    "display(beta)"
   ],
   "outputs": [
    {
     "output_type": "display_data",
     "data": {
      "text/plain": [
       "array([0.09705263, 0.71935168])"
      ]
     },
     "metadata": {}
    }
   ],
   "metadata": {}
  },
  {
   "cell_type": "code",
   "execution_count": 10,
   "source": [
    "# function to scale by the y predicted value from normalized form to simple form\n",
    "def scaleBackYPredicted(originalY , ypredicted):\n",
    "    maxOriginalY = max(originalY)\n",
    "    minOriginalY = min(originalY)\n",
    "\n",
    "    tempList = []\n",
    "\n",
    "    for j in range(len(ypredicted)):\n",
    "        yScaled = ( ((ypredicted[j] - 0) / (1 - 0)) * (maxOriginalY - minOriginalY) ) + minOriginalY\n",
    "        tempList.append(yScaled)\n",
    "    \n",
    "    return tempList\n",
    "\n",
    "\n",
    "\n",
    "# function to predict the y based on test data x\n",
    "# x is the new input to predict y\n",
    "# x should be a pandas data frame type\n",
    "def hypothesisFunction(beta ,  x):\n",
    "    \n",
    "    x = numpy.array(x)\n",
    "    \n",
    "    # y = b0 + b1*x1 + b2*x2 +         + bk*xk\n",
    "    \n",
    "    yPredicted = beta[0]\n",
    "    \n",
    "    for i in range(1 , len(beta)):\n",
    "        yPredicted = yPredicted + ( beta[i] * x[i-1] )\n",
    "        \n",
    "    return yPredicted"
   ],
   "outputs": [],
   "metadata": {}
  },
  {
   "cell_type": "code",
   "execution_count": 11,
   "source": [
    "# function to normalize the new test data based on original data\n",
    "# here original data min max are used to normalize the data\n",
    "def returnNormalisedTestData(originalData , testData):\n",
    "\n",
    "    for columnName, columnData in testData.iteritems():\n",
    "\n",
    "        maxI = max(originalData[columnName])\n",
    "        minI = min(originalData[columnName])\n",
    "\n",
    "        tempList = []\n",
    "\n",
    "        for j in range(len(columnData)):\n",
    "            xStar = ( ((columnData[j] - minI) / (maxI - minI)) * (1 - 0) ) + 0\n",
    "            tempList.append(xStar)\n",
    "        \n",
    "        testData[columnName] = tempList\n",
    "\n",
    "    return testData"
   ],
   "outputs": [],
   "metadata": {}
  },
  {
   "cell_type": "code",
   "execution_count": 12,
   "source": [
    "# test data \n",
    "testData = [[[3000]] , [[2000]] , [[1500]]]\n",
    "\n",
    "\n",
    "# convert test data to data frame\n",
    "testData = pandas.DataFrame([[3000] , [2000] , [1500]] , columns = [\"squareFeet\"])\n",
    "\n",
    "display(testData)\n",
    "\n",
    "\n",
    "# normalize testData\n",
    "testDataNormal = returnNormalisedTestData(myData2 , testData)\n",
    "\n",
    "display(testData)\n",
    "\n",
    "\n",
    "yPredicted = []\n",
    "\n",
    "# predict y using hypothesis function\n",
    "for i in testDataNormal.index:\n",
    "    yPredicted.append(hypothesisFunction(beta , testDataNormal.iloc[i]))\n",
    "\n",
    "display(yPredicted)\n",
    "\n",
    "# scale back the predicted value \n",
    "yPredicted = scaleBackYPredicted(myData2[\"Y\"] , yPredicted)\n",
    "\n",
    "for i in range(len(yPredicted)):\n",
    "    print(\"price for plot {} = {}\".format(testData.iloc[i].tolist() , yPredicted[i]))"
   ],
   "outputs": [
    {
     "output_type": "display_data",
     "data": {
      "text/html": [
       "<div>\n",
       "<style scoped>\n",
       "    .dataframe tbody tr th:only-of-type {\n",
       "        vertical-align: middle;\n",
       "    }\n",
       "\n",
       "    .dataframe tbody tr th {\n",
       "        vertical-align: top;\n",
       "    }\n",
       "\n",
       "    .dataframe thead th {\n",
       "        text-align: right;\n",
       "    }\n",
       "</style>\n",
       "<table border=\"1\" class=\"dataframe\">\n",
       "  <thead>\n",
       "    <tr style=\"text-align: right;\">\n",
       "      <th></th>\n",
       "      <th>squareFeet</th>\n",
       "    </tr>\n",
       "  </thead>\n",
       "  <tbody>\n",
       "    <tr>\n",
       "      <th>0</th>\n",
       "      <td>3000</td>\n",
       "    </tr>\n",
       "    <tr>\n",
       "      <th>1</th>\n",
       "      <td>2000</td>\n",
       "    </tr>\n",
       "    <tr>\n",
       "      <th>2</th>\n",
       "      <td>1500</td>\n",
       "    </tr>\n",
       "  </tbody>\n",
       "</table>\n",
       "</div>"
      ],
      "text/plain": [
       "   squareFeet\n",
       "0        3000\n",
       "1        2000\n",
       "2        1500"
      ]
     },
     "metadata": {}
    },
    {
     "output_type": "display_data",
     "data": {
      "text/html": [
       "<div>\n",
       "<style scoped>\n",
       "    .dataframe tbody tr th:only-of-type {\n",
       "        vertical-align: middle;\n",
       "    }\n",
       "\n",
       "    .dataframe tbody tr th {\n",
       "        vertical-align: top;\n",
       "    }\n",
       "\n",
       "    .dataframe thead th {\n",
       "        text-align: right;\n",
       "    }\n",
       "</style>\n",
       "<table border=\"1\" class=\"dataframe\">\n",
       "  <thead>\n",
       "    <tr style=\"text-align: right;\">\n",
       "      <th></th>\n",
       "      <th>squareFeet</th>\n",
       "    </tr>\n",
       "  </thead>\n",
       "  <tbody>\n",
       "    <tr>\n",
       "      <th>0</th>\n",
       "      <td>1.407407</td>\n",
       "    </tr>\n",
       "    <tr>\n",
       "      <th>1</th>\n",
       "      <td>0.666667</td>\n",
       "    </tr>\n",
       "    <tr>\n",
       "      <th>2</th>\n",
       "      <td>0.296296</td>\n",
       "    </tr>\n",
       "  </tbody>\n",
       "</table>\n",
       "</div>"
      ],
      "text/plain": [
       "   squareFeet\n",
       "0    1.407407\n",
       "1    0.666667\n",
       "2    0.296296"
      ]
     },
     "metadata": {}
    },
    {
     "output_type": "display_data",
     "data": {
      "text/plain": [
       "[1.1094735102508577, 0.5766204139882432, 0.31019386585693587]"
      ]
     },
     "metadata": {}
    },
    {
     "output_type": "stream",
     "name": "stdout",
     "text": [
      "price for plot [1.4074074074074074] = 427.55154311167666\n",
      "price for plot [0.6666666666666666] = 317.7838052815781\n",
      "price for plot [0.2962962962962963] = 262.8999363665288\n"
     ]
    }
   ],
   "metadata": {}
  },
  {
   "cell_type": "code",
   "execution_count": 13,
   "source": [
    "# Code by harshnative\n",
    "# Email - harshnative@gmail.com\n",
    "# Github - https://github.com/harshnative"
   ],
   "outputs": [],
   "metadata": {}
  },
  {
   "cell_type": "code",
   "execution_count": null,
   "source": [],
   "outputs": [],
   "metadata": {}
  }
 ],
 "metadata": {
  "kernelspec": {
   "name": "python3",
   "display_name": "Python 3.8.10 64-bit ('myvirtual': venv)"
  },
  "language_info": {
   "codemirror_mode": {
    "name": "ipython",
    "version": 3
   },
   "file_extension": ".py",
   "mimetype": "text/x-python",
   "name": "python",
   "nbconvert_exporter": "python",
   "pygments_lexer": "ipython3",
   "version": "3.8.10"
  },
  "interpreter": {
   "hash": "9f795af8efb240baf47242286ed9d4e0e32afe2b1a221fc5d091a773c3e089dd"
  }
 },
 "nbformat": 4,
 "nbformat_minor": 4
}